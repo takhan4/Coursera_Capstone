{
    "nbformat_minor": 1, 
    "cells": [
        {
            "source": "_This project will be used for the Capstone_", 
            "cell_type": "markdown", 
            "metadata": {
                "collapsed": true
            }
        }, 
        {
            "execution_count": 2, 
            "cell_type": "code", 
            "metadata": {}, 
            "outputs": [], 
            "source": "import pandas as pd\nimport numpy as np\n"
        }, 
        {
            "execution_count": 2, 
            "cell_type": "code", 
            "metadata": {}, 
            "outputs": [
                {
                    "output_type": "stream", 
                    "name": "stdout", 
                    "text": "Hello Capstone Project Course!\n"
                }
            ], 
            "source": "print(\"Hello Capstone Project Course!\")"
        }, 
        {
            "source": "                                         Introduction/Business Problem Section:", 
            "cell_type": "markdown", 
            "metadata": {}
        }, 
        {
            "source": "Problem:Compare the clusters of neighborhoods within New York City and determine key insights that will improve the quality of life.", 
            "cell_type": "markdown", 
            "metadata": {}
        }, 
        {
            "source": "Audience: My audience would be anyone who is living, wants to live in, or previously lived in New York City.\nWhy they would care: They might be interested in analyzing how to better improve the quality of life. ", 
            "cell_type": "markdown", 
            "metadata": {}
        }, 
        {
            "source": "                                                          Data Section", 
            "cell_type": "markdown", 
            "metadata": {}
        }, 
        {
            "source": "I will be using Foursquare location data. ", 
            "cell_type": "markdown", 
            "metadata": {}
        }, 
        {
            "source": "The Foursquare Data about New York City is the one that we used in the Project. I will be analyzing the clusters that were already made before.", 
            "cell_type": "markdown", 
            "metadata": {}
        }, 
        {
            "source": "", 
            "cell_type": "markdown", 
            "attachments": {}, 
            "metadata": {}
        }, 
        {
            "source": "", 
            "cell_type": "markdown", 
            "metadata": {}
        }
    ], 
    "metadata": {
        "kernelspec": {
            "display_name": "Python 3.5", 
            "name": "python3", 
            "language": "python"
        }, 
        "language_info": {
            "mimetype": "text/x-python", 
            "nbconvert_exporter": "python", 
            "version": "3.5.5", 
            "name": "python", 
            "file_extension": ".py", 
            "pygments_lexer": "ipython3", 
            "codemirror_mode": {
                "version": 3, 
                "name": "ipython"
            }
        }
    }, 
    "nbformat": 4
}